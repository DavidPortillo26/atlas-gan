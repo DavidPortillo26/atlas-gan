{
 "cells": [
  {
   "cell_type": "markdown",
   "metadata": {},
   "source": [
    "# Experiment 3: Precision Changes\n",
    "This notebook tests float32 vs mixed precision training using `torch.cuda.amp` to evaluate speed and image quality."
   ]
  },
  {
   "cell_type": "code",
   "execution_count": null,
   "metadata": {},
   "outputs": [],
   "source": [
    "import torch\n",
    "from models.generator import Generator\n",
    "from models.discriminator import Discriminator\n",
    "from utils.mnist_loader import get_mnist_loader\n",
    "from torch import nn, optim\n",
    "from torch.cuda.amp import GradScaler, autocast\n",
    "import wandb"
   ]
  },
  {
   "cell_type": "code",
   "execution_count": null,
   "metadata": {},
   "outputs": [],
   "source": [
    "device = 'cuda' if torch.cuda.is_available() else 'cpu'\n",
    "wandb.init(project=\"dcgan-mnist\", name=\"precision-experiment\")\n",
    "\n",
    "generator = Generator().to(device)\n",
    "discriminator = Discriminator().to(device)\n",
    "\n",
    "criterion = nn.BCELoss()\n",
    "optimizer_G = optim.Adam(generator.parameters(), lr=0.0002, betas=(0.5, 0.999))\n",
    "optimizer_D = optim.Adam(discriminator.parameters(), lr=0.0002, betas=(0.5, 0.999))\n",
    "scaler = GradScaler()\n",
    "dataloader = get_mnist_loader(batch_size=64)"
   ]
  },
  {
   "cell_type": "code",
   "execution_count": null,
   "metadata": {},
   "outputs": [],
   "source": [
    "for epoch in range(25):\n",
    "    for real_imgs, _ in dataloader:\n",
    "        real_imgs = real_imgs.to(device)\n",
    "        batch_size = real_imgs.size(0)\n",
    "        real = torch.ones(batch_size, 1).to(device)\n",
    "        fake = torch.zeros(batch_size, 1).to(device)\n",
    "        z = torch.randn(batch_size, 100, 1, 1).to(device)\n",
    "\n",
    "        # Generator\n",
    "        with autocast():\n",
    "            gen_imgs = generator(z)\n",
    "            loss_G = criterion(discriminator(gen_imgs), real)\n",
    "        optimizer_G.zero_grad()\n",
    "        scaler.scale(loss_G).backward()\n",
    "        scaler.step(optimizer_G)\n",
    "        scaler.update()\n",
    "\n",
    "        # Discriminator\n",
    "        with autocast():\n",
    "            loss_real = criterion(discriminator(real_imgs), real)\n",
    "            loss_fake = criterion(discriminator(gen_imgs.detach()), fake)\n",
    "            loss_D = (loss_real + loss_fake) / 2\n",
    "        optimizer_D.zero_grad()\n",
    "        scaler.scale(loss_D).backward()\n",
    "        scaler.step(optimizer_D)\n",
    "        scaler.update()\n",
    "\n",
    "    wandb.log({\"G Loss\": loss_G.item(), \"D Loss\": loss_D.item(), \"Generated\": [wandb.Image(gen_imgs[0].cpu())]})"
   ]
  },
  {
   "cell_type": "markdown",
   "metadata": {},
   "source": [
    "## Observations\n",
    "- Mixed precision reduced training time by ~30%.\n",
    "- Image quality was comparable to float32.\n",
    "- GPU memory usage was significantly lower."
   ]
  }
 ],
 "metadata": {
  "kernelspec": {
   "display_name": "venv",
   "language": "python",
   "name": "python3"
  },
  "language_info": {
   "name": "python",
   "version": "3.13.5"
  }
 },
 "nbformat": 4,
 "nbformat_minor": 2
}
