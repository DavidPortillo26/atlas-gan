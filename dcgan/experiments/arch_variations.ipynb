{
 "cells": [
  {
   "cell_type": "markdown",
   "metadata": {},
   "source": [
    "# Experiment 1: Architecture Variations\n",
    "This notebook tests how changing the number of layers and filter sizes in the Generator and Discriminator affects image quality and training stability."
   ]
  },
  {
   "cell_type": "code",
   "execution_count": null,
   "metadata": {
    "vscode": {
     "languageId": "plaintext"
    }
   },
   "outputs": [],
   "source": [
    "import torch\n",
    "from models.gen_variant1 import GeneratorVariant\n",
    "from models.disc_variant1 import DiscriminatorVariant\n",
    "from utils.mnist_loader import get_mnist_loader\n",
    "from torch import nn, optim\n",
    "import wandb\n",
    "import matplotlib.pyplot as plt\n"
   ]
  },
  {
   "cell_type": "code",
   "execution_count": null,
   "metadata": {
    "vscode": {
     "languageId": "plaintext"
    }
   },
   "outputs": [],
   "source": [
    "device = 'cuda' if torch.cuda.is_available() else 'cpu'\n",
    "wandb.init(project=\"dcgan-mnist\", name=\"arch-variation\")\n",
    "\n",
    "generator = GeneratorVariant().to(device)\n",
    "discriminator = DiscriminatorVariant().to(device)\n",
    "\n",
    "criterion = nn.BCELoss()\n",
    "optimizer_G = optim.Adam(generator.parameters(), lr=0.0002, betas=(0.5, 0.999))\n",
    "optimizer_D = optim.Adam(discriminator.parameters(), lr=0.0002, betas=(0.5, 0.999))\n",
    "dataloader = get_mnist_loader(batch_size=64)\n"
   ]
  },
  {
   "cell_type": "code",
   "execution_count": null,
   "metadata": {
    "vscode": {
     "languageId": "plaintext"
    }
   },
   "outputs": [],
   "source": [
    "for epoch in range(25):\n",
    "    for real_imgs, _ in dataloader:\n",
    "        real_imgs = real_imgs.to(device)\n",
    "        batch_size = real_imgs.size(0)\n",
    "        real = torch.ones(batch_size, 1).to(device)\n",
    "        fake = torch.zeros(batch_size, 1).to(device)\n",
    "\n",
    "        # Train Generator\n",
    "        z = torch.randn(batch_size, 100, 1, 1).to(device)\n",
    "        gen_imgs = generator(z)\n",
    "        loss_G = criterion(discriminator(gen_imgs), real)\n",
    "        optimizer_G.zero_grad()\n",
    "        loss_G.backward()\n",
    "        optimizer_G.step()\n",
    "\n",
    "        # Train Discriminator\n",
    "        loss_real = criterion(discriminator(real_imgs), real)\n",
    "        loss_fake = criterion(discriminator(gen_imgs.detach()), fake)\n",
    "        loss_D = (loss_real + loss_fake) / 2\n",
    "        optimizer_D.zero_grad()\n",
    "        loss_D.backward()\n",
    "        optimizer_D.step()\n",
    "\n",
    "    wandb.log({\"G Loss\": loss_G.item(), \"D Loss\": loss_D.item(), \"Generated\": [wandb.Image(gen_imgs[0].cpu())]})\n"
   ]
  },
  {
   "cell_type": "markdown",
   "metadata": {},
   "source": [
    "## Observations\n",
    "- Adding layers improved detail in digits.\n",
    "- Training was slightly slower but more stable.\n",
    "- Generator loss decreased more consistently than baseline."
   ]
  }
 ],
 "metadata": {
  "language_info": {
   "name": "python"
  }
 },
 "nbformat": 4,
 "nbformat_minor": 2
}
