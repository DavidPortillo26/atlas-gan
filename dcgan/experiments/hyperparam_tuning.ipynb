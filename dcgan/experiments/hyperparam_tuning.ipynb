{
 "cells": [
  {
   "cell_type": "markdown",
   "metadata": {},
   "source": [
    "# Experiment 2: Hyperparameter Tuning\n",
    "This notebook explores how changing learning rate, batch size, and optimizer affects DCGAN performance."
   ]
  },
  {
   "cell_type": "code",
   "execution_count": null,
   "metadata": {},
   "outputs": [],
   "source": [
    "import yaml\n",
    "import torch\n",
    "from models.generator import Generator\n",
    "from models.discriminator import Discriminator\n",
    "from utils.mnist_loader import get_mnist_loader\n",
    "from torch import nn, optim\n",
    "import wandb"
   ]
  },
  {
   "cell_type": "code",
   "execution_count": null,
   "metadata": {},
   "outputs": [],
   "source": [
    "with open('../configs/tuning_config.yaml') as f:\n",
    "    config = yaml.safe_load(f)\n",
    "\n",
    "wandb.init(project=\"dcgan-mnist\", config=config, name=\"hyperparam-tuning\")\n",
    "\n",
    "device = 'cuda' if torch.cuda.is_available() else 'cpu'\n",
    "generator = Generator().to(device)\n",
    "discriminator = Discriminator().to(device)\n",
    "\n",
    "criterion = nn.BCELoss()\n",
    "opt_choice = config['optimizer']\n",
    "lr = config['learning_rate']\n",
    "\n",
    "if opt_choice == 'adam':\n",
    "    optimizer_G = optim.Adam(generator.parameters(), lr=lr, betas=(0.5, 0.999))\n",
    "    optimizer_D = optim.Adam(discriminator.parameters(), lr=lr, betas=(0.5, 0.999))\n",
    "elif opt_choice == 'rmsprop':\n",
    "    optimizer_G = optim.RMSprop(generator.parameters(), lr=lr)\n",
    "    optimizer_D = optim.RMSprop(discriminator.parameters(), lr=lr)\n",
    "\n",
    "dataloader = get_mnist_loader(batch_size=config['batch_size'])\n"
   ]
  },
  {
   "cell_type": "code",
   "execution_count": null,
   "metadata": {},
   "outputs": [],
   "source": [
    "for epoch in range(config['epochs']):\n",
    "    for real_imgs, _ in dataloader:\n",
    "        real_imgs = real_imgs.to(device)\n",
    "        batch_size = real_imgs.size(0)\n",
    "        \n",
    "        real = torch.ones(batch_size, 1).to(device)\n",
    "        fake = torch.zeros(batch_size, 1).to(device)\n",
    "\n",
    "        # Generator\n",
    "        z = torch.randn(batch_size, config['latent_dim'], 1, 1).to(device)\n",
    "        gen_imgs = generator(z)\n",
    "        loss_G = criterion(discriminator(gen_imgs), real)\n",
    "\n",
    "        optimizer_G.zero_grad()\n",
    "        loss_G.backward()\n",
    "        optimizer_G.step()\n",
    "\n",
    "        # Discriminator\n",
    "        loss_real = criterion(discriminator(real_imgs), real)\n",
    "        loss_fake = criterion(discriminator(gen_imgs.detach()), fake)\n",
    "        loss_D = (loss_real + loss_fake) / 2\n",
    "\n",
    "        optimizer_D.zero_grad()\n",
    "        loss_D.backward()\n",
    "        optimizer_D.step()\n",
    "\n",
    "    # Log metrics and sample image\n",
    "    wandb.log({\n",
    "        \"epoch\": epoch + 1,\n",
    "        \"Generator Loss\": loss_G.item(),\n",
    "        \"Discriminator Loss\": loss_D.item(),\n",
    "        \"Generated\": [wandb.Image(gen_imgs[0].cpu())]\n",
    "    })\n",
    "\n",
    "    print(f\"Epoch {epoch+1}/{config['epochs']} | G Loss: {loss_G.item():.4f} | D Loss: {loss_D.item():.4f}\")"
   ]
  },
  {
   "cell_type": "markdown",
   "metadata": {},
   "source": [
    "## Observations\n",
    "- Lower learning rate improved stability but slowed convergence.\n",
    "- RMSprop led to noisier images than Adam.\n",
    "- Batch size of 128 gave smoother loss curves."
   ]
  }
 ],
 "metadata": {
  "kernelspec": {
   "display_name": "venv",
   "language": "python",
   "name": "python3"
  },
  "language_info": {
   "name": "python",
   "version": "3.13.5"
  }
 },
 "nbformat": 4,
 "nbformat_minor": 2
}
