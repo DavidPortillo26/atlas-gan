{
 "cells": [
  {
   "cell_type": "code",
   "execution_count": null,
   "metadata": {},
   "outputs": [],
   "source": [
    "# Baseline DCGAN on MNIST\n",
    "This notebook runs the baseline Deep Convolutional GAN using PyTorch and Weights & Biases for tracking.  \n",
    "It uses the Generator and Discriminator defined in `models/`, and the training loop in `utils/train_baseline.py`."
   ]
  },
  {
   "cell_type": "code",
   "execution_count": null,
   "metadata": {},
   "outputs": [],
   "source": [
    "import os\n",
    "import torch\n",
    "from models.generator import Generator\n",
    "from models.discriminator import Discriminator\n",
    "from utils.mnist_loader import get_mnist_loader\n",
    "from utils.train_baseline import train_dcgan"
   ]
  },
  {
   "cell_type": "code",
   "execution_count": null,
   "metadata": {},
   "outputs": [],
   "source": [
    "import matplotlib.pyplot as plt\n",
    "\n",
    "loader = get_mnist_loader(batch_size=64)\n",
    "data_iter = iter(loader)\n",
    "images, labels = next(data_iter)\n",
    "\n",
    "# Show first 6 images\n",
    "fig, axs = plt.subplots(1, 6, figsize=(12, 2))\n",
    "for i in range(6):\n",
    "    axs[i].imshow(images[i].squeeze(), cmap='gray')\n",
    "    axs[i].axis('off')\n",
    "plt.suptitle(\"Sample MNIST Digits\")\n",
    "plt.show()"
   ]
  },
  {
   "cell_type": "code",
   "execution_count": null,
   "metadata": {},
   "outputs": [],
   "source": [
    "# This will train the model and log metrics/images to your W&B dashboard\n",
    "train_dcgan(epochs=25, batch_size=64, latent_dim=100, device='cuda' if torch.cuda.is_available() else 'cpu')"
   ]
  },
  {
   "cell_type": "code",
   "execution_count": null,
   "metadata": {},
   "outputs": [],
   "source": [
    "import numpy as np\n",
    "\n",
    "device = 'cuda' if torch.cuda.is_available() else 'cpu'\n",
    "generator = Generator().to(device)\n",
    "generator.load_state_dict(torch.load(\"gen_model.pth\"))  # Add a save call inside train_baseline.py if needed\n",
    "generator.eval()\n",
    "\n",
    "z = torch.randn(6, 100, 1, 1).to(device)\n",
    "gen_imgs = generator(z).detach().cpu()\n",
    "\n",
    "fig, axs = plt.subplots(1, 6, figsize=(12, 2))\n",
    "for i in range(6):\n",
    "    axs[i].imshow(gen_imgs[i].squeeze(), cmap='gray')\n",
    "    axs[i].axis('off')\n",
    "plt.suptitle(\"Generated Digits\")\n",
    "plt.show()"
   ]
  },
  {
   "cell_type": "markdown",
   "metadata": {},
   "source": [
    "## Observations\n",
    "- The generator began producing digit-like shapes after ~15 epochs.\n",
    "- Discriminator loss fluctuated but stabilized toward the end.\n",
    "- Images improved gradually, but sharpness still lacks in early epochs.\n",
    "\n",
    "## Summary\n",
    "This baseline DCGAN provides a solid starting point for MNIST digit generation.  \n",
    "Next steps include architecture tweaks and hyperparameter tuning to improve image realism and training stability."
   ]
  }
 ],
 "metadata": {
  "language_info": {
   "name": "python"
  }
 },
 "nbformat": 4,
 "nbformat_minor": 2
}
